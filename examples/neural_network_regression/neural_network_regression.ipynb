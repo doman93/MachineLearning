{
 "cells": [
  {
   "cell_type": "markdown",
   "metadata": {},
   "source": [
    "## Neural Network Regression\n",
    "In this example, we will create a neural network mlpack for regression."
   ]
  },
  {
   "cell_type": "markdown",
   "metadata": {},
   "source": [
    "### 1. Setup\n",
    "Include all libraries required to implement this tutorial. These mainly include files from mlpack, ensmallen and armadillo."
   ]
  },
  {
   "cell_type": "code",
   "execution_count": 1,
   "metadata": {},
   "outputs": [],
   "source": [
    "#include <mlpack/core.hpp>\n",
    "#include <mlpack/methods/ann/loss_functions/mean_squared_error.hpp>\n",
    "#include <mlpack/core/data/scaler_methods/min_max_scaler.hpp>\n",
    "#include <mlpack/methods/ann/layer/layer.hpp>\n",
    "#include <mlpack/core/data/split_data.hpp>\n",
    "#include <mlpack/methods/ann/ffn.hpp>\n",
    "#include <mlpack/methods/ann/init_rules/he_init.hpp>\n",
    "#include <ensmallen.hpp>"
   ]
  },
  {
   "cell_type": "markdown",
   "metadata": {},
   "source": [
    "Some convenient namespaces to simplify the tutorial."
   ]
  },
  {
   "cell_type": "code",
   "execution_count": 2,
   "metadata": {},
   "outputs": [],
   "source": [
    "using namespace mlpack;"
   ]
  },
  {
   "cell_type": "code",
   "execution_count": 3,
   "metadata": {},
   "outputs": [],
   "source": [
    "using namespace mlpack::ann;"
   ]
  },
  {
   "cell_type": "code",
   "execution_count": 4,
   "metadata": {},
   "outputs": [],
   "source": [
    "using namespace ens;"
   ]
  },
  {
   "cell_type": "markdown",
   "metadata": {},
   "source": [
    "### 2. Set Model and Training parameters.\n",
    "Set the training parameters for the model."
   ]
  },
  {
   "cell_type": "code",
   "execution_count": 5,
   "metadata": {},
   "outputs": [],
   "source": [
    "// Testing data is taken from the dataset in this ratio.\n",
    "constexpr double RATIO = 0.1; //10%\n",
    "\n",
    "//! - H1: The number of neurons in the 1st layer.\n",
    "constexpr int H1 = 64;\n",
    "//! - H2: The number of neurons in the 2nd layer.\n",
    "constexpr int H2 = 128;\n",
    "//! - H3: The number of neurons in the 3rd layer.\n",
    "constexpr int H3 = 64;\n",
    "\n",
    "// Number of epochs for training. Increase number of epochs for better results.\n",
    "const int EPOCHS = 30;\n",
    "//! - STEP_SIZE: Step size of the optimizer.\n",
    "constexpr double STEP_SIZE = 5e-2;\n",
    "//! - BATCH_SIZE: Number of data points in each iteration of SGD.\n",
    "constexpr int BATCH_SIZE = 32;\n",
    "//! - STOP_TOLERANCE: Stop tolerance;\n",
    "// A very small number implies that we do all iterations.\n",
    "constexpr double STOP_TOLERANCE = 1e-8;"
   ]
  },
  {
   "cell_type": "markdown",
   "metadata": {},
   "source": [
    "Set paths for the dataset, trained model and final predictions."
   ]
  },
  {
   "cell_type": "code",
   "execution_count": 6,
   "metadata": {},
   "outputs": [],
   "source": [
    "//! Path to the dataset used for training and testing.\n",
    "const std::string datasetPath = \"./bodyfat.tsv\";\n",
    "// File for saving the model.\n",
    "const std::string modelFile = \"nn_regressor.bin\";"
   ]
  },
  {
   "cell_type": "markdown",
   "metadata": {},
   "source": [
    "### 3. Loading the Dataset.\n",
    "The bodyfat dataset contains estimates of the percentage of body fat determined by\n",
    "underwater weighing and various body circumference measurements for 252 men. Accurate measurement of body fat is very expensive,but by using machine learning it is possible to calculate a prediction with good accuracy by just using some low cost\n",
    "measurements of the body. The columns in the dataset are the following:\n",
    "\n",
    "* Percent body fat (%) => this is the decision column (what we want to get from the model).\n",
    "* Age (years)\n",
    "* Weight (lbs)\n",
    "* Height (inches)\n",
    "* Neck circumference (cm)\n",
    "* Chest circumference (cm)\n",
    "* Abdomen 2 circumference (cm)\n",
    "* Hip circumference (cm)\n",
    "* Thigh circumference (cm)\n",
    "* Knee circumference (cm)\n",
    "* Ankle circumference (cm)\n",
    "* Biceps (extended) circumference (cm)\n",
    "* Forearm circumference (cm)\n",
    "* Wrist circumference (cm)\n",
    "* Density determined from underwater weighing"
   ]
  },
  {
   "cell_type": "code",
   "execution_count": 7,
   "metadata": {},
   "outputs": [],
   "source": [
    "arma::mat dataset;\n",
    "// In Armadillo columns represent data points, rows represent features.\n",
    "data::Load(datasetPath, dataset, true);"
   ]
  },
  {
   "cell_type": "markdown",
   "metadata": {},
   "source": [
    "### 4. Preprocess the dataset.\n",
    "Split the data into training and validation set. We will also scale the data to increase stability in training."
   ]
  },
  {
   "cell_type": "code",
   "execution_count": 8,
   "metadata": {},
   "outputs": [],
   "source": [
    "// Split the dataset into training and validation sets.\n",
    "arma::mat trainData, validData;\n",
    "data::Split(dataset, trainData, validData, RATIO);"
   ]
  },
  {
   "cell_type": "markdown",
   "metadata": {},
   "source": [
    "Split the data into input features and predictions."
   ]
  },
  {
   "cell_type": "code",
   "execution_count": 9,
   "metadata": {},
   "outputs": [],
   "source": [
    "// The train and valid datasets contain both - the features as well as the\n",
    "// prediction. Split these into separate matrices.\n",
    "arma::mat trainX = trainData.submat(1, 0, trainData.n_rows - 1,\n",
    "                                    trainData.n_cols - 1);\n",
    "arma::mat validX = validData.submat(1, 0, validData.n_rows - 1,\n",
    "                                    validData.n_cols - 1);\n",
    "\n",
    "// Create prediction data for training and validatiion datasets.\n",
    "arma::mat trainY = trainData.row(0);\n",
    "arma::mat validY = validData.row(0);\n",
    "\n",
    "// Scale all data into the range (0, 1) for increased numerical stability.\n",
    "data::MinMaxScaler scaleX;\n",
    "// Scaler for predictions.\n",
    "data::MinMaxScaler scaleY;\n",
    "\n",
    "// Fit scaler only on training data.\n",
    "scaleX.Fit(trainX);\n",
    "scaleX.Transform(trainX, trainX);\n",
    "scaleX.Transform(validX, validX);\n",
    "\n",
    "// Scale training predictions.\n",
    "scaleY.Fit(trainY);\n",
    "scaleY.Transform(trainY, trainY);\n",
    "scaleY.Transform(validY, validY);"
   ]
  },
  {
   "cell_type": "markdown",
   "metadata": {},
   "source": [
    "### 5. Create the Model\n",
    "Specifying the neural network model. The model consists of 3 hidden linear layers and uses LeakyReLU as activation function."
   ]
  },
  {
   "cell_type": "code",
   "execution_count": 10,
   "metadata": {},
   "outputs": [],
   "source": [
    "// This intermediate layer is needed for connection between input\n",
    "// data and the next LeakyReLU layer.\n",
    "// Parameters specify the number of input features and number of\n",
    "// neurons in the next layer.\n",
    "FFN<MeanSquaredError<>, HeInitialization> model;\n",
    "model.Add<Linear<>>(trainX.n_rows, H1);\n",
    "// Activation layer:\n",
    "model.Add<LeakyReLU<>>();\n",
    "// Connection layer between two activation layers.\n",
    "model.Add<Linear<>>(H1, H2);\n",
    "// Activation layer.\n",
    "model.Add<LeakyReLU<>>();\n",
    "// Connection layer.\n",
    "model.Add<Linear<>>(H2, H3);\n",
    "// Activation layer.\n",
    "model.Add<LeakyReLU<>>();\n",
    "// Connection layer => output.\n",
    "// The output of one neuron is the regression output for one record.\n",
    "model.Add<Linear<>>(H3, 1);"
   ]
  },
  {
   "cell_type": "markdown",
   "metadata": {},
   "source": [
    "### 6. Training the model.\n",
    "We will use ensmallen to create the optimizer and train the model. For more details refer to the [documentation](https://www.ensmallen.org/docs.html)."
   ]
  },
  {
   "cell_type": "code",
   "execution_count": 11,
   "metadata": {},
   "outputs": [],
   "source": [
    "ens::Adam optimizer(\n",
    "    STEP_SIZE, // Step size of the optimizer.\n",
    "    BATCH_SIZE, // Batch size. Number of data points that are used in each iteration.\n",
    "    0.9, // Exponential decay rate for the first moment estimates.\n",
    "    0.999, // Exponential decay rate for the weighted infinity norm estimates.\n",
    "    1e-8, // Value used to initialise the mean squared gradient parameter.\n",
    "    trainData.n_cols * EPOCHS, // Max number of iterations.\n",
    "    1e-8,// Tolerance.\n",
    "    true);"
   ]
  },
  {
   "cell_type": "markdown",
   "metadata": {},
   "source": [
    "Here we will use ensmallen callbacks to train the model. We will be using Adam optimizer. To stop the training when the loss stops decreasing or doesn't show any improvement."
   ]
  },
  {
   "cell_type": "code",
   "execution_count": 12,
   "metadata": {},
   "outputs": [
    {
     "name": "stdout",
     "output_type": "stream",
     "text": [
      "Epoch 1/852\n",
      "0.179052\n",
      "8/8 [==================================================] 100% - 0s 1ms/step - loss: 0.179052\n",
      "Epoch 2/852\n",
      "0.00513052\n",
      "8/8 [==================================================] 100% - 0s 1ms/step - loss: 0.00513052\n",
      "Epoch 3/852\n",
      "0.00688234\n",
      "8/8 [==================================================] 100% - 0s 1ms/step - loss: 0.00688234\n",
      "Epoch 4/852\n",
      "0.00184822\n",
      "8/8 [==================================================] 100% - 0s 1ms/step - loss: 0.00184822\n",
      "Epoch 5/852\n",
      "0.00105378\n",
      "8/8 [==================================================] 100% - 0s 1ms/step - loss: 0.00105378\n",
      "Epoch 6/852\n",
      "0.000750528\n",
      "8/8 [==================================================] 100% - 0s 7ms/step - loss: 0.000750528\n",
      "Epoch 7/852\n",
      "0.000693577\n",
      "8/8 [==================================================] 100% - 0s 1ms/step - loss: 0.000693577\n",
      "Epoch 8/852\n",
      "0.000746652\n",
      "8/8 [==================================================] 100% - 0s 1ms/step - loss: 0.000746652\n",
      "Epoch 9/852\n",
      "0.00066746\n",
      "8/8 [==================================================] 100% - 0s 1ms/step - loss: 0.00066746\n",
      "Epoch 10/852\n",
      "0.000884704\n",
      "8/8 [==================================================] 100% - 0s 1ms/step - loss: 0.000884704\n",
      "Epoch 11/852\n",
      "0.000699084\n",
      "8/8 [==================================================] 100% - 0s 7ms/step - loss: 0.000699084\n",
      "Epoch 12/852\n",
      "0.000637509\n",
      "8/8 [==================================================] 100% - 0s 1ms/step - loss: 0.000637509\n",
      "Epoch 13/852\n",
      "0.00060156\n",
      "8/8 [==================================================] 100% - 0s 1ms/step - loss: 0.00060156\n",
      "Epoch 14/852\n",
      "0.000661983\n",
      "8/8 [==================================================] 100% - 0s 1ms/step - loss: 0.000661983\n",
      "Epoch 15/852\n",
      "0.000570786\n",
      "8/8 [==================================================] 100% - 0s 1ms/step - loss: 0.000570786\n",
      "Epoch 16/852\n",
      "0.000579697\n",
      "8/8 [==================================================] 100% - 0s 8ms/step - loss: 0.000579697\n",
      "Epoch 17/852\n",
      "0.000596221\n",
      "8/8 [==================================================] 100% - 0s 1ms/step - loss: 0.000596221\n",
      "Epoch 18/852\n",
      "0.000496033\n",
      "8/8 [==================================================] 100% - 0s 1ms/step - loss: 0.000496033\n",
      "Epoch 19/852\n",
      "0.000527568\n",
      "8/8 [==================================================] 100% - 0s 1ms/step - loss: 0.000527568\n",
      "Epoch 20/852\n",
      "0.000487463\n",
      "8/8 [==================================================] 100% - 0s 7ms/step - loss: 0.000487463\n",
      "Epoch 21/852\n",
      "0.000618489\n",
      "8/8 [==================================================] 100% - 0s 2ms/step - loss: 0.000618489\n",
      "Epoch 22/852\n",
      "0.00055465\n",
      "8/8 [==================================================] 100% - 0s 2ms/step - loss: 0.00055465\n",
      "Epoch 23/852\n",
      "0.000483989\n",
      "8/8 [==================================================] 100% - 0s 8ms/step - loss: 0.000483989\n",
      "Epoch 24/852\n",
      "0.000473512\n",
      "8/8 [==================================================] 100% - 0s 2ms/step - loss: 0.000473512\n",
      "Epoch 25/852\n",
      "0.000593794\n",
      "8/8 [==================================================] 100% - 0s 1ms/step - loss: 0.000593794\n",
      "Epoch 26/852\n",
      "0.000458153\n",
      "8/8 [==================================================] 100% - 0s 8ms/step - loss: 0.000458153\n",
      "Epoch 27/852\n",
      "0.000379911\n",
      "8/8 [==================================================] 100% - 0s 1ms/step - loss: 0.000379911\n",
      "Epoch 28/852\n",
      "0.000441901\n",
      "8/8 [==================================================] 100% - 0s 1ms/step - loss: 0.000441901\n",
      "Epoch 29/852\n",
      "0.000400578\n",
      "8/8 [==================================================] 100% - 0s 1ms/step - loss: 0.000400578\n",
      "Epoch 30/852\n",
      "0.000323442\n",
      "8/8 [==================================================] 100% - 0s 7ms/step - loss: 0.000323442\n"
     ]
    }
   ],
   "source": [
    "// Train the model.\n",
    "model.Train(trainX,\n",
    "            trainY,\n",
    "            optimizer,\n",
    "            // PrintLoss Callback prints loss for each epoch.\n",
    "            ens::PrintLoss(),\n",
    "            // Progressbar Callback prints progress bar for each epoch.\n",
    "            // Here 40 signifies width of progress bar.\n",
    "            ens::ProgressBar(40),\n",
    "            // Stops the optimization process if the loss stops decreasing\n",
    "            // or no improvement has been made. This will terminate the\n",
    "            // optimization once we obtain a minima on training set.\n",
    "            ens::EarlyStopAtMinLoss(20));"
   ]
  },
  {
   "cell_type": "markdown",
   "metadata": {},
   "source": [
    "### 7. Running Inference\n",
    "Get predictions on validation dataset and test the quality of our model by calculating Mean Squared Error on it."
   ]
  },
  {
   "cell_type": "code",
   "execution_count": 13,
   "metadata": {},
   "outputs": [
    {
     "name": "stdout",
     "output_type": "stream",
     "text": [
      "Mean Squared Error on Prediction data points: 0.0087528\n"
     ]
    }
   ],
   "source": [
    "// Create predictions on the dataset.\n",
    "arma::mat predOut;\n",
    "model.Predict(validX, predOut);\n",
    "\n",
    "// Calculate MSE loss on predictions.\n",
    "double validMSE = metric::SquaredEuclideanDistance::Evaluate(predOut, validY) / (validY.n_elem);\n",
    "std::cout << \"Mean Squared Error on Prediction data points: \" << validMSE << std::endl;\n",
    "\n",
    "// Get meanigful prediction by inverse - scaling on predictions.\n",
    "scaleY.InverseTransform(predOut, predOut);"
   ]
  },
  {
   "cell_type": "markdown",
   "metadata": {},
   "source": [
    "### 9. Loading and Saving Models\n",
    "In the real world, we won't be training the model from scratch everytime we need to run inference.\n",
    "We will save the model once and load it as many times as we want for either training or inference."
   ]
  },
  {
   "cell_type": "code",
   "execution_count": null,
   "metadata": {},
   "outputs": [],
   "source": [
    "data::Save(modelFile, \"NNRegressor\", model);\n",
    "FFN<MeanSquaredError<>, HeInitialization> modelP;\n",
    "// Load weights into the model.\n",
    "data::Load(modelFile, \"NNRegressor\", modelP);"
   ]
  }
 ],
 "metadata": {
  "kernelspec": {
   "display_name": "C++11",
   "language": "C++11",
   "name": "xcpp11"
  },
  "language_info": {
   "codemirror_mode": "text/x-c++src",
   "file_extension": ".cpp",
   "mimetype": "text/x-c++src",
   "name": "c++",
   "version": "11"
  }
 },
 "nbformat": 4,
 "nbformat_minor": 2
}
